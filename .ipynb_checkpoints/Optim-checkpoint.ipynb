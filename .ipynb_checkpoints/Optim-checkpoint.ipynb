{
 "cells": [
  {
   "cell_type": "code",
   "execution_count": 1,
   "metadata": {},
   "outputs": [],
   "source": [
    "import torch\n",
    "import numpy as np\n",
    "import math"
   ]
  },
  {
   "cell_type": "code",
   "execution_count": 2,
   "metadata": {},
   "outputs": [
    {
     "ename": "SyntaxError",
     "evalue": "invalid syntax (<ipython-input-2-e1fdb707e3a6>, line 10)",
     "output_type": "error",
     "traceback": [
      "\u001b[1;36m  File \u001b[1;32m\"<ipython-input-2-e1fdb707e3a6>\"\u001b[1;36m, line \u001b[1;32m10\u001b[0m\n\u001b[1;33m    def zero_grad:\u001b[0m\n\u001b[1;37m                 ^\u001b[0m\n\u001b[1;31mSyntaxError\u001b[0m\u001b[1;31m:\u001b[0m invalid syntax\n"
     ]
    }
   ],
   "source": [
    "class Optimizer():\n",
    "    \n",
    "    def __init__(self,model_parameters,*args):\n",
    "        raise NotImplementedError\n",
    "    \n",
    "    def step(self):\n",
    "        raise NotImplementedError\n",
    "    \n",
    "    \n",
    "class SGD(Optimizer):\n",
    "    \n",
    "    def __init(self, model_parameters, eta= 1e-1):\n",
    "        \"\"\"\n",
    "            Model parameters to be optimized over (i.e. w, dw, b, db)\n",
    "            lr the learning rate to be passed as argument, 1e-1 by default\n",
    "            No momentum\n",
    "        \"\"\"\n",
    "        self.parameters = model_parameters\n",
    "        self.eta = eta\n",
    "    \n",
    "    def step(self):\n",
    "        \"\"\"\n",
    "            In param, we have p[0]= w, p[1] = dw\n",
    "            p[2] = b, p[3] = db then we need to update par[0] = par[0]-eta*par[1],\n",
    "            i.e. w(t+1) = w(t) - eta * dl_dw\n",
    "        \"\"\"\n",
    "        for par in self.parameters : \n",
    "            #weights\n",
    "            par[0] = par[0] - self.eta * par[1]\n",
    "            #bias\n",
    "            par[2] = par[2] - self.eta * par[3]\n",
    "            \n",
    "class SGD_momentum(Optimizer):\n",
    "    \n",
    "    def __init__(self,model_parameters,eta=1e-1,gamma = 0.5):\n",
    "        self.parameters = model_parameters\n",
    "        self.eta = eta\n",
    "        self.gamma = gamma\n",
    "        #Initially, for t = 0, the momentum is zero as it has not moved yet.\n",
    "        #then at each step, \"previous\" will be updated.\n",
    "        self.previous = torch.zeros(self.parameters[0].size())\n",
    "    \n",
    "    def step(self):\n",
    "        for par in self.parameters:\n",
    "            difference = (self.eta*par[1]-self.previous)\n",
    "            par[0] = par[0] - self.eta*par[1]-gamma*self.previous\n",
    "            \n",
    "            #this saves the step of this move in memory to be re-used at the next step for momentum.\n",
    "            self.previous = difference\n",
    "            "
   ]
  }
 ],
 "metadata": {
  "kernelspec": {
   "display_name": "Python 3",
   "language": "python",
   "name": "python3"
  },
  "language_info": {
   "codemirror_mode": {
    "name": "ipython",
    "version": 3
   },
   "file_extension": ".py",
   "mimetype": "text/x-python",
   "name": "python",
   "nbconvert_exporter": "python",
   "pygments_lexer": "ipython3",
   "version": "3.7.5"
  }
 },
 "nbformat": 4,
 "nbformat_minor": 4
}
