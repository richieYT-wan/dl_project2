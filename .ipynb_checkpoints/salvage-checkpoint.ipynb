{
 "cells": [
  {
   "cell_type": "code",
   "execution_count": 1,
   "metadata": {
    "scrolled": true
   },
   "outputs": [],
   "source": [
    "import torch\n",
    "import math\n",
    "import matplotlib.pyplot as plt\n",
    "\n",
    "import ModulesSalvage as MS\n",
    "import SequentialSalvage as SS \n",
    "import OptimizerSalvage as OS\n",
    "\n",
    "def generate_disc_set(nb_sample):\n",
    "    \n",
    "    data = torch.empty(nb_sample, 2).uniform_(0, 1)\n",
    "    labels = data.sub(0.5).pow(2).sum(1).sub(1/(2*math.pi)).sign().add(1).div(2).long()\n",
    "    \n",
    "    data_out = data[torch.where(labels==1)]\n",
    "    data_in = data[torch.where(labels==0)]\n",
    "    \n",
    "    plt.figure(figsize=(6,6))\n",
    "    plt.scatter(data_out[:,0],data_out[:,1])\n",
    "    plt.scatter(data_in[:,0], data_in[:,1])\n",
    "\n",
    "    return data, labels\n",
    "\n",
    "data, target = generate_disc_set(1000)\n",
    "data1 = data[0:4]\n",
    "target1 = target[0:4]\n",
    "m1 = MS.Linear(2,25)\n",
    "m2 = MS.Linear(25,25)\n",
    "m3 = MS.Linear(25,25)\n",
    "m4 = MS.Linear(25,2)\n",
    "relu = MS.ReLu()\n",
    "MSE = MS.MSE()"
   ]
  },
  {
   "cell_type": "code",
   "execution_count": null,
   "metadata": {
    "jupyter": {
     "source_hidden": true
    }
   },
   "outputs": [],
   "source": [
    "# Train :\n",
    "\n",
    "nb_epochs = 25\n",
    "losses = []\n",
    "\n",
    "# Modules sequence\n",
    "model = SS.Sequential(m1,relu,m2,relu,m4,relu)\n",
    "\n",
    "# loss criterion\n",
    "MSE = MS.MSE()\n",
    "\n",
    "# Optimizer\n",
    "#print(model.param())\n",
    "# train\n",
    "for e in range(2):\n",
    "    output = model(data)\n",
    "    loss = MSE(output,target)\n",
    "    print(loss)\n",
    "    dl_dx = MSE.backward(output,target)\n",
    "    model.zero_grad()\n",
    "    model.backward(dl_dx)\n",
    "    sgd = OS.SGD(model.param())\n",
    "    update = sgd.step()\n"
   ]
  },
  {
   "cell_type": "code",
   "execution_count": null,
   "metadata": {
    "jupyter": {
     "source_hidden": true
    }
   },
   "outputs": [],
   "source": [
    "# Modules sequence\n",
    "model = SS.Sequential(m1,relu,m4)#,m2,relu,m4,relu)\n",
    "\n",
    "# loss criterion\n",
    "MSE = MS.MSE()\n",
    "\n",
    "output = model(data)\n",
    "loss = MSE(output,target)\n",
    "print(loss)\n",
    "dl_dx = MSE.backward(output,target)\n",
    "model.zero_grad()\n",
    "print(\"Before BACKWARD ------------\\n\",model.param())\n",
    "model.backward(dl_dx)\n",
    "sgd = OS.SGD(model.param())\n",
    "print(\"AFTER BACKWARD----------- \\n\",model.param()[0])\n",
    "test = sgd.step()\n",
    "print(\"AFTER STEP----------------\\n\",model.param()[0])"
   ]
  },
  {
   "cell_type": "code",
   "execution_count": null,
   "metadata": {},
   "outputs": [],
   "source": [
    "torch.empty(1000,2).mean(0).size()"
   ]
  },
  {
   "cell_type": "code",
   "execution_count": 2,
   "metadata": {},
   "outputs": [
    {
     "name": "stdout",
     "output_type": "stream",
     "text": [
      "LOSS ::: tensor(726.1344)\n",
      "LOSS ::: tensor(1534.4459)\n",
      "LOSS ::: tensor(805.9186)\n",
      "LOSS ::: tensor(767.4511)\n",
      "LOSS ::: tensor(751.9373)\n",
      "LOSS ::: tensor(746.0194)\n",
      "LOSS ::: tensor(742.1685)\n",
      "LOSS ::: tensor(739.3054)\n",
      "LOSS ::: tensor(737.0097)\n",
      "LOSS ::: tensor(735.3348)\n",
      "LOSS ::: tensor(733.7920)\n",
      "LOSS ::: tensor(732.3068)\n",
      "LOSS ::: tensor(730.8456)\n",
      "LOSS ::: tensor(729.4230)\n",
      "LOSS ::: tensor(728.0310)\n",
      "LOSS ::: tensor(726.6386)\n",
      "LOSS ::: tensor(725.2559)\n",
      "LOSS ::: tensor(723.8874)\n",
      "LOSS ::: tensor(722.5049)\n",
      "LOSS ::: tensor(721.1046)\n",
      "LOSS ::: tensor(719.6752)\n",
      "LOSS ::: tensor(718.2286)\n",
      "LOSS ::: tensor(716.7708)\n",
      "LOSS ::: tensor(715.3006)\n",
      "LOSS ::: tensor(713.8131)\n",
      "LOSS ::: tensor(712.3291)\n",
      "LOSS ::: tensor(710.8419)\n",
      "LOSS ::: tensor(709.3293)\n",
      "LOSS ::: tensor(707.7841)\n",
      "LOSS ::: tensor(706.1821)\n",
      "LOSS ::: tensor(704.5115)\n",
      "LOSS ::: tensor(702.8044)\n",
      "LOSS ::: tensor(701.0815)\n",
      "LOSS ::: tensor(699.2993)\n",
      "LOSS ::: tensor(697.4858)\n",
      "LOSS ::: tensor(695.6855)\n",
      "LOSS ::: tensor(693.8265)\n",
      "LOSS ::: tensor(691.9789)\n",
      "LOSS ::: tensor(690.1773)\n",
      "LOSS ::: tensor(688.4398)\n",
      "LOSS ::: tensor(686.7430)\n",
      "LOSS ::: tensor(685.0898)\n",
      "LOSS ::: tensor(683.4742)\n",
      "LOSS ::: tensor(681.8731)\n",
      "LOSS ::: tensor(680.2787)\n",
      "LOSS ::: tensor(678.6932)\n",
      "LOSS ::: tensor(677.1240)\n",
      "LOSS ::: tensor(675.5577)\n",
      "LOSS ::: tensor(674.0015)\n",
      "LOSS ::: tensor(672.4562)\n"
     ]
    }
   ],
   "source": [
    "# Modules sequence\n",
    "model = []\n",
    "model = SS.Sequential(m1,relu,m2,relu,m4,relu)\n",
    "model.zero_grad()\n",
    "# loss criterion\n",
    "MSE = MS.MSE()\n",
    "cross = MS.CrossEntropyLoss()\n",
    "for e in range(50):\n",
    "    #print(\"--------- EPOCH {} ---------- \\n\".format(e))\n",
    "    #print(\"-------modelweights-------- \\n\",model.parameters[0][0])\n",
    "    output = model(data)\n",
    "    #print(\"-------modelweights AFTER FORWARD-------- \\n\",model.parameters[0][0])\n",
    "    loss = MSE.forward(output,target)\n",
    "    print(\"LOSS :::\",loss)\n",
    "    dl_dx = MSE.backward(output,target)/1000\n",
    "    #print(\"Grad(W) Before ZEROGRAD ------------\\n\",model.param()[0][1])\n",
    "    model.zero_grad()\n",
    "    #print(\"Grad(W) AFTER ZERO GRAD,Before BACKWARD ------------\\n\",model.param()[0][1])\n",
    "    model.backward(dl_dx)\n",
    "    #print(\"-------modelweights after BACKWARD----- \\n\",model.parameters[0][0])\n",
    "    sgd = OS.SGD(model.param(),eta=9e-2)\n",
    "    #print(\"Grad(W) AFTER BACKWARD----------- \\n\",model.param()[0][1])\n",
    "    #print(\"weights BEFORE STEP----------------\\n\",model.param()[0][0])\n",
    "    sgd.step()\n",
    "    #print(\"weights AFTER STEP----------------\\n\",model.param()[0][0])"
   ]
  },
  {
   "cell_type": "code",
   "execution_count": null,
   "metadata": {},
   "outputs": [],
   "source": [
    "len(model.param()[0][0][0])"
   ]
  },
  {
   "cell_type": "code",
   "execution_count": null,
   "metadata": {},
   "outputs": [],
   "source": [
    "model.zero_grad()\n",
    "print(model.members[0])\n",
    "print(\"linear0.weight\",model.members[0].w.size())\n",
    "print(\"linear0.bias\",model.members[0].b.size())\n",
    "print(\"TESTING weightsize\",model.param()[0][0].size())\n",
    "print(\"testing bias_size\",model.param()[1][0].size())"
   ]
  },
  {
   "cell_type": "code",
   "execution_count": null,
   "metadata": {},
   "outputs": [],
   "source": []
  }
 ],
 "metadata": {
  "kernelspec": {
   "display_name": "Python 3",
   "language": "python",
   "name": "python3"
  },
  "language_info": {
   "codemirror_mode": {
    "name": "ipython",
    "version": 3
   },
   "file_extension": ".py",
   "mimetype": "text/x-python",
   "name": "python",
   "nbconvert_exporter": "python",
   "pygments_lexer": "ipython3",
   "version": "3.7.5"
  }
 },
 "nbformat": 4,
 "nbformat_minor": 4
}
