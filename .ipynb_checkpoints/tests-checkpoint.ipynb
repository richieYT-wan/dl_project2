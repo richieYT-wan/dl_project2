{
 "cells": [
  {
   "cell_type": "code",
   "execution_count": 1,
   "metadata": {},
   "outputs": [],
   "source": [
    "import torch\n",
    "import numpy as np\n",
    "import math"
   ]
  },
  {
   "cell_type": "code",
   "execution_count": 29,
   "metadata": {},
   "outputs": [
    {
     "name": "stdout",
     "output_type": "stream",
     "text": [
      "tensor([ -7.6634,   5.5474, -12.4726,  17.2371,  -3.4655,   3.4737,   0.6242,\n",
      "        -11.0671,  -6.5717,   5.9690])\n",
      "tensor([ 0.0000,  5.5474,  0.0000, 17.2371,  0.0000,  3.4737,  0.6242,  0.0000,\n",
      "         0.0000,  5.9690])\n"
     ]
    }
   ],
   "source": [
    "x = torch.empty(10).normal_(0,5)\n",
    "print(x)\n",
    "b = torch.max(x,torch.zeros(x.size()))\n",
    "print(b)"
   ]
  },
  {
   "cell_type": "code",
   "execution_count": 24,
   "metadata": {},
   "outputs": [
    {
     "name": "stdout",
     "output_type": "stream",
     "text": [
      "tensor(12.1670)\n",
      "tensor([-14.5231, -14.7825,  -4.0445,  -8.0057, -15.0185, -13.6187, -12.0864,\n",
      "        -27.9149, -15.4833,   0.0000])\n"
     ]
    }
   ],
   "source": [
    "print(x.max())\n",
    "print(x-x.max())"
   ]
  },
  {
   "cell_type": "code",
   "execution_count": 30,
   "metadata": {},
   "outputs": [
    {
     "name": "stdout",
     "output_type": "stream",
     "text": [
      "x tensor([ -7.6634,   5.5474, -12.4726,  17.2371,  -3.4655,   3.4737,   0.6242,\n",
      "        -11.0671,  -6.5717,   5.9690])\n",
      "y tensor([4.6968e-04, 2.5658e+02, 3.8300e-06, 3.0619e+07, 3.1256e-02, 3.2257e+01,\n",
      "        1.8668e+00, 1.5618e-05, 1.3995e-03, 3.9112e+02])\n",
      "ysum tensor(30619794.)\n",
      "ySoftmax tensor([1.5339e-11, 8.3795e-06, 1.2508e-13, 9.9998e-01, 1.0208e-09, 1.0535e-06,\n",
      "        6.0966e-08, 5.1005e-13, 4.5704e-11, 1.2774e-05])\n",
      "---------------\n",
      "x1 tensor([-24.9006, -11.6897, -29.7098,   0.0000, -20.7027, -13.7634, -16.6129,\n",
      "        -28.3042, -23.8088, -11.2681])\n",
      "z tensor([1.5340e-11, 8.3797e-06, 1.2509e-13, 1.0000e+00, 1.0208e-09, 1.0535e-06,\n",
      "        6.0967e-08, 5.1006e-13, 4.5705e-11, 1.2774e-05])\n",
      "zsum tensor(1.0000)\n",
      "zsoftmax tensor([1.5339e-11, 8.3795e-06, 1.2508e-13, 9.9998e-01, 1.0208e-09, 1.0535e-06,\n",
      "        6.0966e-08, 5.1005e-13, 4.5704e-11, 1.2774e-05])\n"
     ]
    }
   ],
   "source": [
    "y = torch.exp(x)\n",
    "x1 = x-x.max()\n",
    "print(\"x\",x)\n",
    "print(\"y\",y)\n",
    "print(\"ysum\",y.sum())\n",
    "print(\"ySoftmax\", y/(y.sum()))\n",
    "z = torch.exp(x1)\n",
    "\n",
    "print(\"---------------\")\n",
    "print(\"x1\",x1)\n",
    "print(\"z\",z)\n",
    "print(\"zsum\",z.sum())\n",
    "print(\"zsoftmax\",z/(z.sum()))"
   ]
  },
  {
   "cell_type": "code",
   "execution_count": 32,
   "metadata": {},
   "outputs": [
    {
     "data": {
      "text/plain": [
       "30618041.968912475"
      ]
     },
     "execution_count": 32,
     "metadata": {},
     "output_type": "execute_result"
    }
   ],
   "source": []
  },
  {
   "cell_type": "code",
   "execution_count": null,
   "metadata": {},
   "outputs": [],
   "source": []
  }
 ],
 "metadata": {
  "kernelspec": {
   "display_name": "Python 3",
   "language": "python",
   "name": "python3"
  },
  "language_info": {
   "codemirror_mode": {
    "name": "ipython",
    "version": 3
   },
   "file_extension": ".py",
   "mimetype": "text/x-python",
   "name": "python",
   "nbconvert_exporter": "python",
   "pygments_lexer": "ipython3",
   "version": "3.7.5"
  }
 },
 "nbformat": 4,
 "nbformat_minor": 4
}
