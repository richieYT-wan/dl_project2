{
 "cells": [
  {
   "cell_type": "code",
   "execution_count": null,
   "metadata": {},
   "outputs": [],
   "source": [
    "import torch\n",
    "import numpy as np\n",
    "import math\n",
    "\n",
    "class Sequential():\n",
    "    \n",
    "    \n",
    "    \"\"\"\n",
    "        An instance of the sequential class contains the Modules passed to it as arguments.\n",
    "        For example, pass linear, relu to it, it will be stored within its attribute \"members\"\n",
    "        memory used to \n",
    "    \"\"\"\n",
    "    def __init__(self,*Modules):\n",
    "        self.members = []\n",
    "        for mod in Modules:\n",
    "            self.members += mod\n",
    "        self.memory = []\n",
    "    \n",
    "    def forward(self,x):\n",
    "        "
   ]
  }
 ],
 "metadata": {
  "kernelspec": {
   "display_name": "Python 3",
   "language": "python",
   "name": "python3"
  },
  "language_info": {
   "codemirror_mode": {
    "name": "ipython",
    "version": 3
   },
   "file_extension": ".py",
   "mimetype": "text/x-python",
   "name": "python",
   "nbconvert_exporter": "python",
   "pygments_lexer": "ipython3",
   "version": "3.7.5"
  }
 },
 "nbformat": 4,
 "nbformat_minor": 4
}
