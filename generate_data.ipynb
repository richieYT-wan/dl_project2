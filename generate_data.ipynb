{
 "cells": [
  {
   "cell_type": "markdown",
   "metadata": {},
   "source": [
    "Generates a training and a test set of 1, 000 points sampled uniformly in [0,1]x[0,1],\n",
    "\n",
    "each with a\n",
    "label 0 if outside the disk centered at (0.5, 0.5) of radius $1/√2π$, and 1 inside,"
   ]
  },
  {
   "cell_type": "code",
   "execution_count": 34,
   "metadata": {},
   "outputs": [
    {
     "data": {
      "text/plain": [
       "0.15915494309189535"
      ]
     },
     "execution_count": 34,
     "metadata": {},
     "output_type": "execute_result"
    }
   ],
   "source": [
    "import math\n",
    "import numpy as np\n",
    "import torch\n",
    "from torch import Tensor\n",
    "1/(2*math.pi)"
   ]
  },
  {
   "cell_type": "markdown",
   "metadata": {},
   "source": [
    "that returns a pair torch.Tensor, torch.LongTensor of dimensions respectively nb×2 and nb,\n",
    "corresponding to the input and target of a toy data-set where the input is uniformly distributed in\n",
    "[−1, 1] × [−1, 1] and the label is 1 inside the disc of radius sqrt(2/pi)\n",
    "and 0 outside.\n",
    "Create a train and test set of 1, 000 samples, and normalize their mean and variance to 0 and 1.\n",
    "A simple sanity check is to ensure that the two classes are balanced.\n"
   ]
  },
  {
   "cell_type": "code",
   "execution_count": 19,
   "metadata": {},
   "outputs": [
    {
     "name": "stdout",
     "output_type": "stream",
     "text": [
      "tensor([[0.2787, 0.4553],\n",
      "        [0.4961, 0.1862],\n",
      "        [0.6867, 0.1390],\n",
      "        ...,\n",
      "        [0.5503, 0.7721],\n",
      "        [0.4663, 0.7550],\n",
      "        [0.1482, 0.2287]])\n"
     ]
    }
   ],
   "source": [
    "x = (Tensor(1000, 2).uniform_(0, 1))\n",
    "print(x)"
   ]
  },
  {
   "cell_type": "code",
   "execution_count": 39,
   "metadata": {},
   "outputs": [
    {
     "name": "stdout",
     "output_type": "stream",
     "text": [
      "tensor([[-0.2213, -0.0447],\n",
      "        [-0.0039, -0.3138],\n",
      "        [ 0.1867, -0.3610],\n",
      "        ...,\n",
      "        [ 0.0503,  0.2721],\n",
      "        [-0.0337,  0.2550],\n",
      "        [-0.3518, -0.2713]])\n",
      "tensor([0.0985, 0.1652, 0.0045, 0.0095, 0.0455, 0.1706, 0.3207, 0.0637, 0.2696])\n",
      "tensor([1, 0, 1, 1, 1, 0, 0, 1, 0])\n"
     ]
    }
   ],
   "source": [
    "print(x.sub(0.5))\n",
    "y = (x.sub(0.5))\n",
    "print(y.pow(2).sum(1)[1:10])\n",
    "print((y.pow(2).sum(1)<(1/(2*math.pi)))[1:10].long())"
   ]
  },
  {
   "cell_type": "code",
   "execution_count": 35,
   "metadata": {},
   "outputs": [
    {
     "data": {
      "text/plain": [
       "-0.06065000000000001"
      ]
     },
     "execution_count": 35,
     "metadata": {},
     "output_type": "execute_result"
    }
   ],
   "source": [
    "0.0985-0.15915"
   ]
  },
  {
   "cell_type": "code",
   "execution_count": 53,
   "metadata": {},
   "outputs": [],
   "source": [
    "#1 Toy Data-set\n",
    "def generate_data():\n",
    "    input1 = (Tensor(1000, 2).uniform_(0, 1))\n",
    "    target = ((input1.sub(0.5)).pow(2).sum(1)<=(1/(2*math.pi))).long()\n",
    "    return input1, target\n"
   ]
  },
  {
   "cell_type": "code",
   "execution_count": 46,
   "metadata": {},
   "outputs": [
    {
     "name": "stdout",
     "output_type": "stream",
     "text": [
      "tensor([[0.0623, 0.8525],\n",
      "        [0.0646, 0.4073],\n",
      "        [0.1301, 0.6887],\n",
      "        [0.0377, 0.4339],\n",
      "        [0.6757, 0.7643],\n",
      "        [0.6465, 0.3312],\n",
      "        [0.5149, 0.0027],\n",
      "        [0.3160, 0.7118],\n",
      "        [0.6160, 0.8623],\n",
      "        [0.4164, 0.5597]]) tensor([0, 0, 0, 0, 1, 1, 0, 1, 1, 1])\n"
     ]
    }
   ],
   "source": [
    "input1, target = generate_data()\n",
    "print(input1[0:10],target[0:10])"
   ]
  },
  {
   "cell_type": "code",
   "execution_count": 52,
   "metadata": {},
   "outputs": [
    {
     "name": "stdout",
     "output_type": "stream",
     "text": [
      "tensor([0.1757, 0.2643])\n",
      "tensor(0.1007)\n"
     ]
    }
   ],
   "source": [
    "z = input1[4]-0.5\n",
    "print(z)\n",
    "z.pow(2)\n",
    "print(z.pow(2).sum())"
   ]
  },
  {
   "cell_type": "code",
   "execution_count": null,
   "metadata": {},
   "outputs": [],
   "source": []
  }
 ],
 "metadata": {
  "kernelspec": {
   "display_name": "Python 3",
   "language": "python",
   "name": "python3"
  },
  "language_info": {
   "codemirror_mode": {
    "name": "ipython",
    "version": 3
   },
   "file_extension": ".py",
   "mimetype": "text/x-python",
   "name": "python",
   "nbconvert_exporter": "python",
   "pygments_lexer": "ipython3",
   "version": "3.7.5"
  }
 },
 "nbformat": 4,
 "nbformat_minor": 4
}
